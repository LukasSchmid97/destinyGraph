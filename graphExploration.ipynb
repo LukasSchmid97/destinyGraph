{
 "nbformat": 4,
 "nbformat_minor": 2,
 "metadata": {
  "language_info": {
   "name": "python",
   "codemirror_mode": {
    "name": "ipython",
    "version": 3
   },
   "version": "3.7.4-final"
  },
  "orig_nbformat": 2,
  "file_extension": ".py",
  "mimetype": "text/x-python",
  "name": "python",
  "npconvert_exporter": "python",
  "pygments_lexer": "ipython3",
  "version": 3,
  "kernelspec": {
   "name": "python37464bitdff66e93bdf74ae3be45627c04b80669",
   "display_name": "Python 3.7.4 64-bit"
  }
 },
 "cells": [
  {
   "cell_type": "code",
   "execution_count": 1,
   "metadata": {},
   "outputs": [],
   "source": [
    "from functions import getPlayersPastPVE, getPGCR, getJSONfromURL\n",
    "from concurrent.futures import ThreadPoolExecutor, as_completed\n",
    "from config import BUNGIE_TOKEN\n",
    "import pandas as pd\n",
    "import requests\n",
    "import json\n",
    "import matplotlib.pyplot as plt\n",
    "from decimal import Decimal\n",
    "plt.rcParams['backend'] = \"Qt4Agg\"\n",
    "\n",
    "bungieAPI_URL = \"https://www.bungie.net/Platform\"\n",
    "PARAMS = {'X-API-Key': BUNGIE_TOKEN}\n",
    "dummy = None\n",
    "session = requests.Session()\n",
    "\n",
    "centerNodeDestinyID = 4611686018468433098"
   ]
  },
  {
   "cell_type": "code",
   "execution_count": 149,
   "metadata": {},
   "outputs": [],
   "source": [
    "charURL = \"https://stats.bungie.net/Platform/Destiny2/3/Profile/{}/?components=100,200\"\n",
    "characterinfo = None\n",
    "platform = None\n",
    "characterinfo = session.get(url=charURL.format(centerNodeDestinyID), headers=PARAMS).json()\n",
    "charIDs = characterinfo['Response']['characters']['data'].keys()\n",
    "activitylist = []\n",
    "for characterID in charIDs:\n",
    "    for pagenr in range(100):\n",
    "        staturl = f\"https://www.bungie.net/Platform/Destiny2/3/Account/{centerNodeDestinyID}/Character/{characterID}/Stats/Activities/?mode=4&count=250&page={pagenr}\" \n",
    "        # None\t0 Everything\n",
    "        # Story\t2\t \n",
    "        # Strike\t3\t \n",
    "        # Raid\t4\t \n",
    "        # AllPvP\t5\t \n",
    "        # Patrol\t6\t \n",
    "        # AllPvE\t7\t\n",
    "        rep = session.get(url=staturl, headers=PARAMS).json()\n",
    "        if not rep or not rep['Response'] or 'activities' not in rep['Response']:\n",
    "            #print(rep)\n",
    "            #print('break at ' + str(pagenr))\n",
    "            break\n",
    "        activitylist += rep['Response']['activities']"
   ]
  },
  {
   "cell_type": "code",
   "execution_count": 150,
   "metadata": {},
   "outputs": [],
   "source": [
    "actualactlist = []\n",
    "for actlist in activitylist:\n",
    "    actualactlist.append(actlist)"
   ]
  },
  {
   "cell_type": "code",
   "execution_count": 151,
   "metadata": {},
   "outputs": [],
   "source": [
    "with open('haliactlist.list', 'w') as f:\n",
    "    f.write(json.dumps(actualactlist))"
   ]
  },
  {
   "cell_type": "code",
   "execution_count": 152,
   "metadata": {},
   "outputs": [],
   "source": [
    "completedacts = []\n",
    "for act in actualactlist:\n",
    "    if act['values']['completed']['basic']['value'] == 1:\n",
    "        completedacts.append(act)"
   ]
  },
  {
   "cell_type": "code",
   "execution_count": 153,
   "metadata": {},
   "outputs": [],
   "source": [
    "instanceIds = [act['activityDetails']['instanceId'] for act in completedacts]"
   ]
  },
  {
   "cell_type": "code",
   "execution_count": 154,
   "metadata": {},
   "outputs": [
    {
     "data": {
      "text/plain": "219"
     },
     "execution_count": 154,
     "metadata": {},
     "output_type": "execute_result"
    }
   ],
   "source": [
    "len(completedacts)"
   ]
  },
  {
   "cell_type": "code",
   "execution_count": 155,
   "metadata": {},
   "outputs": [
    {
     "data": {
      "text/plain": "{'period': '2020-02-10T17:15:03Z',\n 'activityDetails': {'referenceId': 3333172150,\n  'directorActivityHash': 3333172150,\n  'instanceId': '5717850705',\n  'mode': 4,\n  'modes': [7, 4],\n  'isPrivate': False,\n  'membershipType': 3},\n 'values': {'assists': {'statId': 'assists',\n   'basic': {'value': 0.0, 'displayValue': '0'}},\n  'completed': {'statId': 'completed',\n   'basic': {'value': 1.0, 'displayValue': 'Yes'}},\n  'deaths': {'statId': 'deaths', 'basic': {'value': 1.0, 'displayValue': '1'}},\n  'kills': {'statId': 'kills', 'basic': {'value': 26.0, 'displayValue': '26'}},\n  'opponentsDefeated': {'statId': 'opponentsDefeated',\n   'basic': {'value': 26.0, 'displayValue': '26'}},\n  'efficiency': {'statId': 'efficiency',\n   'basic': {'value': 26.0, 'displayValue': '26.00'}},\n  'killsDeathsRatio': {'statId': 'killsDeathsRatio',\n   'basic': {'value': 26.0, 'displayValue': '26.00'}},\n  'killsDeathsAssists': {'statId': 'killsDeathsAssists',\n   'basic': {'value': 26.0, 'displayValue': '26.00'}},\n  'score': {'statId': 'score', 'basic': {'value': 0.0, 'displayValue': '0'}},\n  'activityDurationSeconds': {'statId': 'activityDurationSeconds',\n   'basic': {'value': 768.0, 'displayValue': '12m 48s'}},\n  'team': {'statId': 'team', 'basic': {'value': 0.0, 'displayValue': ''}},\n  'completionReason': {'statId': 'completionReason',\n   'basic': {'value': 0.0, 'displayValue': 'Objective Completed'}},\n  'fireteamId': {'statId': 'fireteamId',\n   'basic': {'value': -7.680566458483752e+18, 'displayValue': '-2147483648'}},\n  'startSeconds': {'statId': 'startSeconds',\n   'basic': {'value': 123.0, 'displayValue': '2m 3s'}},\n  'timePlayedSeconds': {'statId': 'timePlayedSeconds',\n   'basic': {'value': 645.0, 'displayValue': '10m 45s'}},\n  'playerCount': {'statId': 'playerCount',\n   'basic': {'value': 6.0, 'displayValue': '6'}},\n  'teamScore': {'statId': 'teamScore',\n   'basic': {'value': 0.0, 'displayValue': '0'}}}}"
     },
     "execution_count": 155,
     "metadata": {},
     "output_type": "execute_result"
    }
   ],
   "source": [
    "completedacts[0]"
   ]
  },
  {
   "cell_type": "code",
   "execution_count": 156,
   "metadata": {},
   "outputs": [],
   "source": [
    "pgcrlist = []\n",
    "for instanceId in instanceIds:\n",
    "    pgcrlist += getPGCR(instanceId)['Response']['entries']"
   ]
  },
  {
   "cell_type": "code",
   "execution_count": 157,
   "metadata": {},
   "outputs": [
    {
     "data": {
      "text/plain": "{'standing': 0,\n 'score': {'basic': {'value': 0.0, 'displayValue': '0'}},\n 'player': {'destinyUserInfo': {'iconPath': '/common/destiny2_content/icons/a76687ae2dcee20b1e164404850c09a5.jpg',\n   'crossSaveOverride': 3,\n   'applicableMembershipTypes': [1, 3],\n   'isPublic': True,\n   'membershipType': 3,\n   'membershipId': '4611686018468433098',\n   'displayName': 'Exiled'},\n  'characterClass': 'Titan',\n  'classHash': 3655393761,\n  'raceHash': 898834093,\n  'genderHash': 3111576190,\n  'characterLevel': 50,\n  'lightLevel': 977,\n  'emblemHash': 1736897081},\n 'characterId': '2305843009317674161',\n 'values': {'assists': {'basic': {'value': 0.0, 'displayValue': '0'}},\n  'completed': {'basic': {'value': 1.0, 'displayValue': 'Yes'}},\n  'deaths': {'basic': {'value': 1.0, 'displayValue': '1'}},\n  'kills': {'basic': {'value': 26.0, 'displayValue': '26'}},\n  'opponentsDefeated': {'basic': {'value': 26.0, 'displayValue': '26'}},\n  'efficiency': {'basic': {'value': 26.0, 'displayValue': '26.00'}},\n  'killsDeathsRatio': {'basic': {'value': 26.0, 'displayValue': '26.00'}},\n  'killsDeathsAssists': {'basic': {'value': 26.0, 'displayValue': '26.00'}},\n  'score': {'basic': {'value': 0.0, 'displayValue': '0'}},\n  'activityDurationSeconds': {'basic': {'value': 768.0,\n    'displayValue': '12m 48s'}},\n  'completionReason': {'basic': {'value': 0.0,\n    'displayValue': 'Objective Completed'}},\n  'fireteamId': {'basic': {'value': -7.680566458483752e+18,\n    'displayValue': '-2147483648'}},\n  'startSeconds': {'basic': {'value': 123.0, 'displayValue': '2m 3s'}},\n  'timePlayedSeconds': {'basic': {'value': 645.0, 'displayValue': '10m 45s'}},\n  'playerCount': {'basic': {'value': 6.0, 'displayValue': '6'}},\n  'teamScore': {'basic': {'value': 0.0, 'displayValue': '0'}}},\n 'extended': {'weapons': [{'referenceId': 3354242550,\n    'values': {'uniqueWeaponKills': {'basic': {'value': 11.0,\n       'displayValue': '11'}},\n     'uniqueWeaponPrecisionKills': {'basic': {'value': 4.0,\n       'displayValue': '4'}},\n     'uniqueWeaponKillsPrecisionKills': {'basic': {'value': 0.36363636363636365,\n       'displayValue': '36%'}}}},\n   {'referenceId': 3211806999,\n    'values': {'uniqueWeaponKills': {'basic': {'value': 1.0,\n       'displayValue': '1'}},\n     'uniqueWeaponPrecisionKills': {'basic': {'value': 1.0,\n       'displayValue': '1'}},\n     'uniqueWeaponKillsPrecisionKills': {'basic': {'value': 1.0,\n       'displayValue': '100%'}}}},\n   {'referenceId': 1972985595,\n    'values': {'uniqueWeaponKills': {'basic': {'value': 5.0,\n       'displayValue': '5'}},\n     'uniqueWeaponPrecisionKills': {'basic': {'value': 0.0,\n       'displayValue': '0'}},\n     'uniqueWeaponKillsPrecisionKills': {'basic': {'value': 0.0,\n       'displayValue': '0%'}}}}],\n  'values': {'precisionKills': {'basic': {'value': 7.0, 'displayValue': '7'}},\n   'weaponKillsGrenade': {'basic': {'value': 0.0, 'displayValue': '0'}},\n   'weaponKillsMelee': {'basic': {'value': 4.0, 'displayValue': '4'}},\n   'weaponKillsSuper': {'basic': {'value': 4.0, 'displayValue': '4'}},\n   'weaponKillsAbility': {'basic': {'value': 0.0, 'displayValue': '0'}}}}}"
     },
     "execution_count": 157,
     "metadata": {},
     "output_type": "execute_result"
    }
   ],
   "source": [
    "pgcrlist[0]"
   ]
  },
  {
   "cell_type": "code",
   "execution_count": 158,
   "metadata": {},
   "outputs": [],
   "source": [
    "partners = []\n",
    "for char in pgcrlist:\n",
    "    partners.append((char['player']['destinyUserInfo']['membershipId'], char['player']['destinyUserInfo']['displayName']))"
   ]
  },
  {
   "cell_type": "code",
   "execution_count": 159,
   "metadata": {},
   "outputs": [],
   "source": [
    "df = pd.DataFrame(partners,columns=['destinyid','username'])\n",
    "count = df.groupby(['destinyid','username']).size().reset_index(name='counts')\n",
    "sortedcount = count.sort_values('counts', ascending=False)\n",
    "smallsample = sortedcount.drop(sortedcount.index[0]).nlargest(20,'counts')"
   ]
  },
  {
   "cell_type": "code",
   "execution_count": 160,
   "metadata": {},
   "outputs": [],
   "source": [
    "#sortedcount[['counts']].values.tolist()"
   ]
  },
  {
   "cell_type": "code",
   "execution_count": 161,
   "metadata": {},
   "outputs": [
    {
     "name": "stdout",
     "output_type": "stream",
     "text": "done\n"
    }
   ],
   "source": [
    "smallsample.plot(x='username', y='counts', kind='bar')\n",
    "plt.gcf().subplots_adjust(bottom=0.4)\n",
    "plt.savefig('img.png')\n",
    "print('done')"
   ]
  }
 ]
}